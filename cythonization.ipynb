{
 "cells": [
  {
   "cell_type": "code",
   "execution_count": 1,
   "metadata": {},
   "outputs": [
    {
     "name": "stdout",
     "output_type": "stream",
     "text": [
      "[[ 0.  1.  2.  3.  4.]\n",
      " [ 5.  6.  7.  8.  9.]\n",
      " [10. 11. 12. 13. 14.]\n",
      " [15. 16. 17. 18. 19.]\n",
      " [20. 21. 22. 23. 24.]]\n"
     ]
    }
   ],
   "source": [
    "import os\n",
    "import numpy, scipy, pandas\n",
    "import matplotlib\n",
    "import matplotlib.pyplot as plt\n",
    "from imp import reload\n",
    "import seaborn\n",
    "import cython\n",
    "\n",
    "import peas\n",
    "\n",
    "d = numpy.arange(25).reshape((5,5)).astype(float)\n",
    "print(d)"
   ]
  },
  {
   "cell_type": "code",
   "execution_count": 2,
   "metadata": {},
   "outputs": [
    {
     "name": "stdout",
     "output_type": "stream",
     "text": [
      "CPU times: user 124 µs, sys: 0 ns, total: 124 µs\n",
      "Wall time: 160 µs\n",
      "CPU times: user 1.55 ms, sys: 0 ns, total: 1.55 ms\n",
      "Wall time: 1.57 ms\n"
     ]
    }
   ],
   "source": [
    "%%time\n",
    "%time st2 = peas.scoring_funcs_cython.compute_sum_table_2d_shuffled(d, 2, d.shape[0], 1)"
   ]
  },
  {
   "cell_type": "code",
   "execution_count": 3,
   "metadata": {},
   "outputs": [],
   "source": [
    "# bed_fname = '/home/dskola/projects/coupled_peaks/moremerged/peak_matrices/atac_notx_peak_matrix.tsv'\n",
    "# bed_df = pandas.read_csv(bed_fname, index_col=0, sep='\\t')\n",
    "\n",
    "# %time corrs = bed_df.iloc[:, 6:].T.corr()"
   ]
  },
  {
   "cell_type": "code",
   "execution_count": 4,
   "metadata": {},
   "outputs": [
    {
     "name": "stdout",
     "output_type": "stream",
     "text": [
      "CPU times: user 12.2 s, sys: 543 ms, total: 12.8 s\n",
      "Wall time: 12.8 s\n"
     ]
    }
   ],
   "source": [
    "%%time\n",
    "hic_corrs_fname = '/home/dskola/projects/coupled_peaks/hic/c57_hic_corrs_chr19.tsv'\n",
    "hic_corrs = pandas.read_csv(hic_corrs_fname, sep='\\t', index_col=0)"
   ]
  },
  {
   "cell_type": "code",
   "execution_count": 5,
   "metadata": {},
   "outputs": [
    {
     "name": "stdout",
     "output_type": "stream",
     "text": [
      "CPU times: user 136 ms, sys: 989 µs, total: 137 ms\n",
      "Wall time: 134 ms\n"
     ]
    },
    {
     "name": "stderr",
     "output_type": "stream",
     "text": [
      "2018-Sep-05 14:24:06\t\ttrimmed 6134 x 6134 matrix to remove contiguous NaNs, now 5825 x 5825.\n"
     ]
    }
   ],
   "source": [
    "%time hic_corrs, _, _, _, _ = peas.interface.trim_data_matrix(hic_corrs.values)\n",
    "hic_corrs = numpy.array(hic_corrs, order='c')"
   ]
  },
  {
   "cell_type": "code",
   "execution_count": 6,
   "metadata": {},
   "outputs": [
    {
     "data": {
      "text/plain": [
       "array([[ 1.        ,  0.67820989,  0.30999799, ..., -0.00849356,\n",
       "        -0.01138646, -0.01854142],\n",
       "       [ 0.67820989,  1.        ,  0.71799514, ..., -0.01637958,\n",
       "        -0.02055494, -0.03230393],\n",
       "       [ 0.30999799,  0.71799514,  1.        , ..., -0.03087628,\n",
       "        -0.03961263, -0.05143196],\n",
       "       ...,\n",
       "       [-0.00849356, -0.01637958, -0.03087628, ...,  1.        ,\n",
       "         0.5600207 ,  0.04241341],\n",
       "       [-0.01138646, -0.02055494, -0.03961263, ...,  0.5600207 ,\n",
       "         1.        ,  0.61430029],\n",
       "       [-0.01854142, -0.03230393, -0.05143196, ...,  0.04241341,\n",
       "         0.61430029,  1.        ]])"
      ]
     },
     "execution_count": 6,
     "metadata": {},
     "output_type": "execute_result"
    }
   ],
   "source": [
    "hic_corrs"
   ]
  },
  {
   "cell_type": "markdown",
   "metadata": {},
   "source": [
    "## Benchmark"
   ]
  },
  {
   "cell_type": "code",
   "execution_count": 7,
   "metadata": {},
   "outputs": [
    {
     "data": {
      "text/plain": [
       "<module 'peas.scoring' from '/gpfs/data01/glasslab/home/dskola/workspace/PEAS/peas/scoring.py'>"
      ]
     },
     "execution_count": 7,
     "metadata": {},
     "output_type": "execute_result"
    }
   ],
   "source": [
    "reload(peas.scoring)"
   ]
  },
  {
   "cell_type": "code",
   "execution_count": 8,
   "metadata": {},
   "outputs": [
    {
     "name": "stdout",
     "output_type": "stream",
     "text": [
      "1.52 s ± 20.7 ms per loop (mean ± std. dev. of 7 runs, 1 loop each)\n"
     ]
    }
   ],
   "source": [
    "peas.scoring.constants.USE_C = False\n",
    "%timeit peas.scoring.compute_sum_table_2d(hic_corrs, 2)"
   ]
  },
  {
   "cell_type": "code",
   "execution_count": 9,
   "metadata": {},
   "outputs": [
    {
     "name": "stdout",
     "output_type": "stream",
     "text": [
      "264 ms ± 6.24 ms per loop (mean ± std. dev. of 7 runs, 1 loop each)\n"
     ]
    }
   ],
   "source": [
    "peas.scoring.constants.USE_C = True\n",
    "%timeit peas.scoring.compute_sum_table_2d(hic_corrs, 2)"
   ]
  },
  {
   "cell_type": "code",
   "execution_count": 10,
   "metadata": {},
   "outputs": [
    {
     "name": "stdout",
     "output_type": "stream",
     "text": [
      "1.75 s ± 51.7 ms per loop (mean ± std. dev. of 7 runs, 1 loop each)\n"
     ]
    }
   ],
   "source": [
    "peas.scoring.constants.USE_C = False\n",
    "%timeit peas.scoring.compute_mean_table_2d(hic_corrs, 2)"
   ]
  },
  {
   "cell_type": "code",
   "execution_count": 11,
   "metadata": {},
   "outputs": [
    {
     "name": "stdout",
     "output_type": "stream",
     "text": [
      "495 ms ± 29.7 ms per loop (mean ± std. dev. of 7 runs, 1 loop each)\n"
     ]
    }
   ],
   "source": [
    "peas.scoring.constants.USE_C = True\n",
    "%timeit peas.scoring.compute_mean_table_2d(hic_corrs, 2)"
   ]
  },
  {
   "cell_type": "code",
   "execution_count": 12,
   "metadata": {},
   "outputs": [
    {
     "name": "stdout",
     "output_type": "stream",
     "text": [
      "513 ms ± 19.3 ms per loop (mean ± std. dev. of 7 runs, 1 loop each)\n"
     ]
    }
   ],
   "source": [
    "reload(peas.scoring)\n",
    "peas.scoring.constants.USE_C = True\n",
    "%timeit peas.scoring.compute_mean_table_2d(hic_corrs, 2)"
   ]
  },
  {
   "cell_type": "markdown",
   "metadata": {},
   "source": [
    "## Combine with shuffling"
   ]
  },
  {
   "cell_type": "code",
   "execution_count": 13,
   "metadata": {},
   "outputs": [
    {
     "name": "stdout",
     "output_type": "stream",
     "text": [
      "CPU times: user 1.98 s, sys: 172 ms, total: 2.15 s\n",
      "Wall time: 507 ms\n",
      "CPU times: user 293 ms, sys: 103 ms, total: 396 ms\n",
      "Wall time: 394 ms\n",
      "CPU times: user 522 ms, sys: 106 ms, total: 628 ms\n",
      "Wall time: 626 ms\n",
      "CPU times: user 321 ms, sys: 107 ms, total: 428 ms\n",
      "Wall time: 427 ms\n",
      "CPU times: user 423 ms, sys: 109 ms, total: 532 ms\n",
      "Wall time: 530 ms\n",
      "CPU times: user 309 ms, sys: 99.9 ms, total: 409 ms\n",
      "Wall time: 408 ms\n",
      "CPU times: user 419 ms, sys: 103 ms, total: 522 ms\n",
      "Wall time: 520 ms\n",
      "CPU times: user 300 ms, sys: 107 ms, total: 407 ms\n",
      "Wall time: 406 ms\n",
      "CPU times: user 417 ms, sys: 103 ms, total: 520 ms\n",
      "Wall time: 517 ms\n",
      "CPU times: user 303 ms, sys: 104 ms, total: 407 ms\n",
      "Wall time: 406 ms\n",
      "CPU times: user 428 ms, sys: 103 ms, total: 531 ms\n",
      "Wall time: 529 ms\n",
      "CPU times: user 300 ms, sys: 110 ms, total: 410 ms\n",
      "Wall time: 409 ms\n",
      "CPU times: user 421 ms, sys: 101 ms, total: 522 ms\n",
      "Wall time: 521 ms\n",
      "CPU times: user 309 ms, sys: 101 ms, total: 410 ms\n",
      "Wall time: 408 ms\n",
      "CPU times: user 410 ms, sys: 111 ms, total: 521 ms\n",
      "Wall time: 519 ms\n",
      "CPU times: user 297 ms, sys: 104 ms, total: 401 ms\n",
      "Wall time: 400 ms\n",
      "948 ms ± 43.8 ms per loop (mean ± std. dev. of 7 runs, 1 loop each)\n"
     ]
    }
   ],
   "source": [
    "%%timeit\n",
    "numpy.random.seed(1)\n",
    "%time shuffled_matrix = peas.arrayfuncs.shuffle_matrix(hic_corrs)\n",
    "%time st1 = peas.scoring.compute_sum_table_2d(shuffled_matrix, 2)"
   ]
  },
  {
   "cell_type": "code",
   "execution_count": 14,
   "metadata": {},
   "outputs": [
    {
     "name": "stdout",
     "output_type": "stream",
     "text": [
      "432 ms ± 3.21 ms per loop (mean ± std. dev. of 7 runs, 1 loop each)\n"
     ]
    }
   ],
   "source": [
    "%%timeit\n",
    "st2 = peas.scoring_funcs_cython.compute_sum_table_2d_shuffled(hic_corrs, 2, hic_corrs.shape[0], 1)"
   ]
  },
  {
   "cell_type": "markdown",
   "metadata": {},
   "source": [
    "## Means shuffled"
   ]
  },
  {
   "cell_type": "code",
   "execution_count": 15,
   "metadata": {},
   "outputs": [
    {
     "name": "stdout",
     "output_type": "stream",
     "text": [
      "CPU times: user 430 ms, sys: 109 ms, total: 539 ms\n",
      "Wall time: 536 ms\n",
      "CPU times: user 7.91 s, sys: 301 ms, total: 8.21 s\n",
      "Wall time: 687 ms\n",
      "CPU times: user 2.21 s, sys: 187 ms, total: 2.39 s\n",
      "Wall time: 516 ms\n",
      "CPU times: user 6.9 s, sys: 233 ms, total: 7.13 s\n",
      "Wall time: 645 ms\n",
      "CPU times: user 2.93 s, sys: 211 ms, total: 3.14 s\n",
      "Wall time: 514 ms\n",
      "CPU times: user 7.67 s, sys: 281 ms, total: 7.95 s\n",
      "Wall time: 684 ms\n",
      "CPU times: user 2.32 s, sys: 188 ms, total: 2.51 s\n",
      "Wall time: 514 ms\n",
      "CPU times: user 7.69 s, sys: 257 ms, total: 7.95 s\n",
      "Wall time: 680 ms\n",
      "CPU times: user 2.34 s, sys: 179 ms, total: 2.52 s\n",
      "Wall time: 517 ms\n",
      "CPU times: user 7.9 s, sys: 278 ms, total: 8.18 s\n",
      "Wall time: 692 ms\n",
      "CPU times: user 2.22 s, sys: 176 ms, total: 2.4 s\n",
      "Wall time: 551 ms\n",
      "CPU times: user 7.68 s, sys: 222 ms, total: 7.9 s\n",
      "Wall time: 683 ms\n",
      "CPU times: user 2.37 s, sys: 196 ms, total: 2.57 s\n",
      "Wall time: 514 ms\n",
      "CPU times: user 7.64 s, sys: 269 ms, total: 7.91 s\n",
      "Wall time: 668 ms\n",
      "CPU times: user 2.41 s, sys: 203 ms, total: 2.61 s\n",
      "Wall time: 513 ms\n",
      "CPU times: user 7.82 s, sys: 297 ms, total: 8.12 s\n",
      "Wall time: 678 ms\n",
      "1.2 s ± 21 ms per loop (mean ± std. dev. of 7 runs, 1 loop each)\n"
     ]
    }
   ],
   "source": [
    "%%timeit\n",
    "numpy.random.seed(1)\n",
    "%time shuffled_matrix = peas.arrayfuncs.shuffle_matrix(hic_corrs)\n",
    "%time mt1 = peas.scoring.compute_mean_table_2d(shuffled_matrix, 2)"
   ]
  },
  {
   "cell_type": "code",
   "execution_count": 16,
   "metadata": {},
   "outputs": [
    {
     "name": "stdout",
     "output_type": "stream",
     "text": [
      "CPU times: user 2.19 s, sys: 142 ms, total: 2.33 s\n",
      "Wall time: 499 ms\n"
     ]
    }
   ],
   "source": [
    "%%time\n",
    "mt2 = peas.scoring_funcs_cython.compute_mean_table_2d_shuffled(hic_corrs, 2, hic_corrs.shape[0], 1)"
   ]
  },
  {
   "cell_type": "code",
   "execution_count": null,
   "metadata": {},
   "outputs": [],
   "source": []
  },
  {
   "cell_type": "markdown",
   "metadata": {},
   "source": [
    "## Denominators"
   ]
  },
  {
   "cell_type": "code",
   "execution_count": 32,
   "metadata": {},
   "outputs": [
    {
     "data": {
      "text/plain": [
       "array([[ 0.,  1.,  3.,  6., 10.],\n",
       "       [ 0.,  0.,  1.,  3.,  6.],\n",
       "       [ 0.,  0.,  0.,  1.,  3.],\n",
       "       [ 0.,  0.,  0.,  0.,  1.],\n",
       "       [ 0.,  0.,  0.,  0.,  0.]])"
      ]
     },
     "execution_count": 32,
     "metadata": {},
     "output_type": "execute_result"
    }
   ],
   "source": [
    "def naive_denominator(n, start_diagonal, end_diagonal):\n",
    "    denom_matrix = numpy.zeros((n,n))\n",
    "    cumulant = 0\n",
    "    for diag_idx in range(start_diagonal, end_diagonal):\n",
    "        cumulant += diag_idx - start_diagonal + 1\n",
    "        for row_idx in range(n-diag_idx):\n",
    "            col_idx = row_idx + diag_idx\n",
    "            denom_matrix[row_idx, col_idx] = cumulant\n",
    "    return denom_matrix\n",
    "\n",
    "naive_denominator(5, 1, 5)        "
   ]
  },
  {
   "cell_type": "code",
   "execution_count": null,
   "metadata": {},
   "outputs": [],
   "source": []
  },
  {
   "cell_type": "code",
   "execution_count": 83,
   "metadata": {},
   "outputs": [
    {
     "data": {
      "text/plain": [
       "<module 'peas.scoring' from '/gpfs/data01/glasslab/home/dskola/workspace/PEAS/peas/scoring.py'>"
      ]
     },
     "execution_count": 83,
     "metadata": {},
     "output_type": "execute_result"
    }
   ],
   "source": [
    "reload(peas.scoring)\n"
   ]
  },
  {
   "cell_type": "code",
   "execution_count": 79,
   "metadata": {},
   "outputs": [
    {
     "name": "stdout",
     "output_type": "stream",
     "text": [
      "The slowest run took 8.56 times longer than the fastest. This could mean that an intermediate result is being cached.\n",
      "1.41 µs ± 1.72 µs per loop (mean ± std. dev. of 7 runs, 1 loop each)\n"
     ]
    }
   ],
   "source": [
    "%timeit peas.scoring.compute_denominator_2d(hic_corrs.shape[0], 2)"
   ]
  },
  {
   "cell_type": "code",
   "execution_count": 82,
   "metadata": {},
   "outputs": [
    {
     "name": "stdout",
     "output_type": "stream",
     "text": [
      "876 ms ± 8.33 ms per loop (mean ± std. dev. of 7 runs, 1 loop each)\n"
     ]
    }
   ],
   "source": [
    "reload(peas.scoring)\n",
    "peas.scoring.constants.USE_C = True\n",
    "%timeit peas.scoring.compute_mean_table_2d(hic_corrs, 2)"
   ]
  },
  {
   "cell_type": "code",
   "execution_count": 81,
   "metadata": {},
   "outputs": [
    {
     "name": "stdout",
     "output_type": "stream",
     "text": [
      " "
     ]
    }
   ],
   "source": [
    "%prun peas.scoring.compute_mean_table_2d(hic_corrs, 2)"
   ]
  },
  {
   "cell_type": "code",
   "execution_count": 70,
   "metadata": {},
   "outputs": [
    {
     "ename": "KeyboardInterrupt",
     "evalue": "",
     "output_type": "error",
     "traceback": [
      "\u001b[0;31m---------------------------------------------------------------------------\u001b[0m",
      "\u001b[0;31mKeyboardInterrupt\u001b[0m                         Traceback (most recent call last)",
      "\u001b[0;32m<ipython-input-70-0a49f167026f>\u001b[0m in \u001b[0;36m<module>\u001b[0;34m()\u001b[0m\n\u001b[0;32m----> 1\u001b[0;31m \u001b[0mget_ipython\u001b[0m\u001b[0;34m(\u001b[0m\u001b[0;34m)\u001b[0m\u001b[0;34m.\u001b[0m\u001b[0mrun_line_magic\u001b[0m\u001b[0;34m(\u001b[0m\u001b[0;34m'timeit'\u001b[0m\u001b[0;34m,\u001b[0m \u001b[0;34m'simple_denominator2(hic_corrs.shape[0])'\u001b[0m\u001b[0;34m)\u001b[0m\u001b[0;34m\u001b[0m\u001b[0m\n\u001b[0m",
      "\u001b[0;32m~/anaconda3/lib/python3.6/site-packages/IPython/core/interactiveshell.py\u001b[0m in \u001b[0;36mrun_line_magic\u001b[0;34m(self, magic_name, line, _stack_depth)\u001b[0m\n\u001b[1;32m   2129\u001b[0m                 \u001b[0mkwargs\u001b[0m\u001b[0;34m[\u001b[0m\u001b[0;34m'local_ns'\u001b[0m\u001b[0;34m]\u001b[0m \u001b[0;34m=\u001b[0m \u001b[0msys\u001b[0m\u001b[0;34m.\u001b[0m\u001b[0m_getframe\u001b[0m\u001b[0;34m(\u001b[0m\u001b[0mstack_depth\u001b[0m\u001b[0;34m)\u001b[0m\u001b[0;34m.\u001b[0m\u001b[0mf_locals\u001b[0m\u001b[0;34m\u001b[0m\u001b[0m\n\u001b[1;32m   2130\u001b[0m             \u001b[0;32mwith\u001b[0m \u001b[0mself\u001b[0m\u001b[0;34m.\u001b[0m\u001b[0mbuiltin_trap\u001b[0m\u001b[0;34m:\u001b[0m\u001b[0;34m\u001b[0m\u001b[0m\n\u001b[0;32m-> 2131\u001b[0;31m                 \u001b[0mresult\u001b[0m \u001b[0;34m=\u001b[0m \u001b[0mfn\u001b[0m\u001b[0;34m(\u001b[0m\u001b[0;34m*\u001b[0m\u001b[0margs\u001b[0m\u001b[0;34m,\u001b[0m\u001b[0;34m**\u001b[0m\u001b[0mkwargs\u001b[0m\u001b[0;34m)\u001b[0m\u001b[0;34m\u001b[0m\u001b[0m\n\u001b[0m\u001b[1;32m   2132\u001b[0m             \u001b[0;32mreturn\u001b[0m \u001b[0mresult\u001b[0m\u001b[0;34m\u001b[0m\u001b[0m\n\u001b[1;32m   2133\u001b[0m \u001b[0;34m\u001b[0m\u001b[0m\n",
      "\u001b[0;32m<decorator-gen-61>\u001b[0m in \u001b[0;36mtimeit\u001b[0;34m(self, line, cell, local_ns)\u001b[0m\n",
      "\u001b[0;32m~/anaconda3/lib/python3.6/site-packages/IPython/core/magic.py\u001b[0m in \u001b[0;36m<lambda>\u001b[0;34m(f, *a, **k)\u001b[0m\n\u001b[1;32m    185\u001b[0m     \u001b[0;31m# but it's overkill for just that one bit of state.\u001b[0m\u001b[0;34m\u001b[0m\u001b[0;34m\u001b[0m\u001b[0m\n\u001b[1;32m    186\u001b[0m     \u001b[0;32mdef\u001b[0m \u001b[0mmagic_deco\u001b[0m\u001b[0;34m(\u001b[0m\u001b[0marg\u001b[0m\u001b[0;34m)\u001b[0m\u001b[0;34m:\u001b[0m\u001b[0;34m\u001b[0m\u001b[0m\n\u001b[0;32m--> 187\u001b[0;31m         \u001b[0mcall\u001b[0m \u001b[0;34m=\u001b[0m \u001b[0;32mlambda\u001b[0m \u001b[0mf\u001b[0m\u001b[0;34m,\u001b[0m \u001b[0;34m*\u001b[0m\u001b[0ma\u001b[0m\u001b[0;34m,\u001b[0m \u001b[0;34m**\u001b[0m\u001b[0mk\u001b[0m\u001b[0;34m:\u001b[0m \u001b[0mf\u001b[0m\u001b[0;34m(\u001b[0m\u001b[0;34m*\u001b[0m\u001b[0ma\u001b[0m\u001b[0;34m,\u001b[0m \u001b[0;34m**\u001b[0m\u001b[0mk\u001b[0m\u001b[0;34m)\u001b[0m\u001b[0;34m\u001b[0m\u001b[0m\n\u001b[0m\u001b[1;32m    188\u001b[0m \u001b[0;34m\u001b[0m\u001b[0m\n\u001b[1;32m    189\u001b[0m         \u001b[0;32mif\u001b[0m \u001b[0mcallable\u001b[0m\u001b[0;34m(\u001b[0m\u001b[0marg\u001b[0m\u001b[0;34m)\u001b[0m\u001b[0;34m:\u001b[0m\u001b[0;34m\u001b[0m\u001b[0m\n",
      "\u001b[0;32m~/anaconda3/lib/python3.6/site-packages/IPython/core/magics/execution.py\u001b[0m in \u001b[0;36mtimeit\u001b[0;34m(self, line, cell, local_ns)\u001b[0m\n\u001b[1;32m   1096\u001b[0m             \u001b[0;32mfor\u001b[0m \u001b[0mindex\u001b[0m \u001b[0;32min\u001b[0m \u001b[0mrange\u001b[0m\u001b[0;34m(\u001b[0m\u001b[0;36m0\u001b[0m\u001b[0;34m,\u001b[0m \u001b[0;36m10\u001b[0m\u001b[0;34m)\u001b[0m\u001b[0;34m:\u001b[0m\u001b[0;34m\u001b[0m\u001b[0m\n\u001b[1;32m   1097\u001b[0m                 \u001b[0mnumber\u001b[0m \u001b[0;34m=\u001b[0m \u001b[0;36m10\u001b[0m \u001b[0;34m**\u001b[0m \u001b[0mindex\u001b[0m\u001b[0;34m\u001b[0m\u001b[0m\n\u001b[0;32m-> 1098\u001b[0;31m                 \u001b[0mtime_number\u001b[0m \u001b[0;34m=\u001b[0m \u001b[0mtimer\u001b[0m\u001b[0;34m.\u001b[0m\u001b[0mtimeit\u001b[0m\u001b[0;34m(\u001b[0m\u001b[0mnumber\u001b[0m\u001b[0;34m)\u001b[0m\u001b[0;34m\u001b[0m\u001b[0m\n\u001b[0m\u001b[1;32m   1099\u001b[0m                 \u001b[0;32mif\u001b[0m \u001b[0mtime_number\u001b[0m \u001b[0;34m>=\u001b[0m \u001b[0;36m0.2\u001b[0m\u001b[0;34m:\u001b[0m\u001b[0;34m\u001b[0m\u001b[0m\n\u001b[1;32m   1100\u001b[0m                     \u001b[0;32mbreak\u001b[0m\u001b[0;34m\u001b[0m\u001b[0m\n",
      "\u001b[0;32m~/anaconda3/lib/python3.6/site-packages/IPython/core/magics/execution.py\u001b[0m in \u001b[0;36mtimeit\u001b[0;34m(self, number)\u001b[0m\n\u001b[1;32m    158\u001b[0m         \u001b[0mgc\u001b[0m\u001b[0;34m.\u001b[0m\u001b[0mdisable\u001b[0m\u001b[0;34m(\u001b[0m\u001b[0;34m)\u001b[0m\u001b[0;34m\u001b[0m\u001b[0m\n\u001b[1;32m    159\u001b[0m         \u001b[0;32mtry\u001b[0m\u001b[0;34m:\u001b[0m\u001b[0;34m\u001b[0m\u001b[0m\n\u001b[0;32m--> 160\u001b[0;31m             \u001b[0mtiming\u001b[0m \u001b[0;34m=\u001b[0m \u001b[0mself\u001b[0m\u001b[0;34m.\u001b[0m\u001b[0minner\u001b[0m\u001b[0;34m(\u001b[0m\u001b[0mit\u001b[0m\u001b[0;34m,\u001b[0m \u001b[0mself\u001b[0m\u001b[0;34m.\u001b[0m\u001b[0mtimer\u001b[0m\u001b[0;34m)\u001b[0m\u001b[0;34m\u001b[0m\u001b[0m\n\u001b[0m\u001b[1;32m    161\u001b[0m         \u001b[0;32mfinally\u001b[0m\u001b[0;34m:\u001b[0m\u001b[0;34m\u001b[0m\u001b[0m\n\u001b[1;32m    162\u001b[0m             \u001b[0;32mif\u001b[0m \u001b[0mgcold\u001b[0m\u001b[0;34m:\u001b[0m\u001b[0;34m\u001b[0m\u001b[0m\n",
      "\u001b[0;32m<magic-timeit>\u001b[0m in \u001b[0;36minner\u001b[0;34m(_it, _timer)\u001b[0m\n",
      "\u001b[0;32m<ipython-input-54-f0ba48f10857>\u001b[0m in \u001b[0;36msimple_denominator2\u001b[0;34m(n, start_diagonal)\u001b[0m\n\u001b[1;32m      1\u001b[0m \u001b[0;32mdef\u001b[0m \u001b[0msimple_denominator2\u001b[0m\u001b[0;34m(\u001b[0m\u001b[0mn\u001b[0m\u001b[0;34m,\u001b[0m \u001b[0mstart_diagonal\u001b[0m\u001b[0;34m=\u001b[0m\u001b[0;36m0\u001b[0m\u001b[0;34m)\u001b[0m\u001b[0;34m:\u001b[0m\u001b[0;34m\u001b[0m\u001b[0m\n\u001b[0;32m----> 2\u001b[0;31m     \u001b[0;32mreturn\u001b[0m \u001b[0msum\u001b[0m\u001b[0;34m(\u001b[0m\u001b[0;34m[\u001b[0m\u001b[0mnumpy\u001b[0m\u001b[0;34m.\u001b[0m\u001b[0mtri\u001b[0m\u001b[0;34m(\u001b[0m\u001b[0mn\u001b[0m\u001b[0;34m,\u001b[0m\u001b[0mn\u001b[0m\u001b[0;34m,\u001b[0m \u001b[0;34m-\u001b[0m\u001b[0mi\u001b[0m \u001b[0;34m-\u001b[0m \u001b[0mstart_diagonal\u001b[0m\u001b[0;34m)\u001b[0m\u001b[0;34m*\u001b[0m\u001b[0;34m(\u001b[0m\u001b[0mi\u001b[0m\u001b[0;34m+\u001b[0m\u001b[0;36m1\u001b[0m\u001b[0;34m)\u001b[0m \u001b[0;32mfor\u001b[0m \u001b[0mi\u001b[0m \u001b[0;32min\u001b[0m \u001b[0mrange\u001b[0m\u001b[0;34m(\u001b[0m\u001b[0mn\u001b[0m\u001b[0;34m)\u001b[0m\u001b[0;34m]\u001b[0m\u001b[0;34m)\u001b[0m\u001b[0;34m.\u001b[0m\u001b[0mT\u001b[0m\u001b[0;34m\u001b[0m\u001b[0m\n\u001b[0m",
      "\u001b[0;32m<ipython-input-54-f0ba48f10857>\u001b[0m in \u001b[0;36m<listcomp>\u001b[0;34m(.0)\u001b[0m\n\u001b[1;32m      1\u001b[0m \u001b[0;32mdef\u001b[0m \u001b[0msimple_denominator2\u001b[0m\u001b[0;34m(\u001b[0m\u001b[0mn\u001b[0m\u001b[0;34m,\u001b[0m \u001b[0mstart_diagonal\u001b[0m\u001b[0;34m=\u001b[0m\u001b[0;36m0\u001b[0m\u001b[0;34m)\u001b[0m\u001b[0;34m:\u001b[0m\u001b[0;34m\u001b[0m\u001b[0m\n\u001b[0;32m----> 2\u001b[0;31m     \u001b[0;32mreturn\u001b[0m \u001b[0msum\u001b[0m\u001b[0;34m(\u001b[0m\u001b[0;34m[\u001b[0m\u001b[0mnumpy\u001b[0m\u001b[0;34m.\u001b[0m\u001b[0mtri\u001b[0m\u001b[0;34m(\u001b[0m\u001b[0mn\u001b[0m\u001b[0;34m,\u001b[0m\u001b[0mn\u001b[0m\u001b[0;34m,\u001b[0m \u001b[0;34m-\u001b[0m\u001b[0mi\u001b[0m \u001b[0;34m-\u001b[0m \u001b[0mstart_diagonal\u001b[0m\u001b[0;34m)\u001b[0m\u001b[0;34m*\u001b[0m\u001b[0;34m(\u001b[0m\u001b[0mi\u001b[0m\u001b[0;34m+\u001b[0m\u001b[0;36m1\u001b[0m\u001b[0;34m)\u001b[0m \u001b[0;32mfor\u001b[0m \u001b[0mi\u001b[0m \u001b[0;32min\u001b[0m \u001b[0mrange\u001b[0m\u001b[0;34m(\u001b[0m\u001b[0mn\u001b[0m\u001b[0;34m)\u001b[0m\u001b[0;34m]\u001b[0m\u001b[0;34m)\u001b[0m\u001b[0;34m.\u001b[0m\u001b[0mT\u001b[0m\u001b[0;34m\u001b[0m\u001b[0m\n\u001b[0m",
      "\u001b[0;32m~/anaconda3/lib/python3.6/site-packages/numpy/lib/twodim_base.py\u001b[0m in \u001b[0;36mtri\u001b[0;34m(N, M, k, dtype)\u001b[0m\n\u001b[1;32m    366\u001b[0m \u001b[0;34m\u001b[0m\u001b[0m\n\u001b[1;32m    367\u001b[0m     m = greater_equal.outer(arange(N, dtype=_min_int(0, N)),\n\u001b[0;32m--> 368\u001b[0;31m                             arange(-k, M-k, dtype=_min_int(-k, M - k)))\n\u001b[0m\u001b[1;32m    369\u001b[0m \u001b[0;34m\u001b[0m\u001b[0m\n\u001b[1;32m    370\u001b[0m     \u001b[0;31m# Avoid making a copy if the requested type is already bool\u001b[0m\u001b[0;34m\u001b[0m\u001b[0;34m\u001b[0m\u001b[0m\n",
      "\u001b[0;31mKeyboardInterrupt\u001b[0m: "
     ]
    }
   ],
   "source": [
    "# %timeit simple_denominator2(hic_corrs.shape[0])"
   ]
  },
  {
   "cell_type": "code",
   "execution_count": 91,
   "metadata": {},
   "outputs": [
    {
     "name": "stdout",
     "output_type": "stream",
     "text": [
      "385 ns ± 4.49 ns per loop (mean ± std. dev. of 7 runs, 1000000 loops each)\n"
     ]
    }
   ],
   "source": [
    "%timeit peas.scoring.compute_denominator_2d(5,1)"
   ]
  },
  {
   "cell_type": "code",
   "execution_count": 93,
   "metadata": {},
   "outputs": [
    {
     "data": {
      "text/plain": [
       "array([[ 0.,  1.,  3.,  6., 10., 15.],\n",
       "       [ 0.,  0.,  1.,  3.,  6., 10.],\n",
       "       [ 0.,  0.,  0.,  1.,  3.,  6.],\n",
       "       [ 0.,  0.,  0.,  0.,  1.,  3.],\n",
       "       [ 0.,  0.,  0.,  0.,  0.,  1.],\n",
       "       [ 0.,  0.,  0.,  0.,  0.,  0.]])"
      ]
     },
     "execution_count": 93,
     "metadata": {},
     "output_type": "execute_result"
    }
   ],
   "source": [
    "reload(peas.scoring)\n",
    "peas.scoring.compute_denominator_2d(6,1, 5)"
   ]
  },
  {
   "cell_type": "markdown",
   "metadata": {},
   "source": [
    "# ToDo: go through all start and end diagonals and straighten out"
   ]
  },
  {
   "cell_type": "code",
   "execution_count": 96,
   "metadata": {},
   "outputs": [
    {
     "data": {
      "text/plain": [
       "array([ 0,  6, 12, 18, 24])"
      ]
     },
     "execution_count": 96,
     "metadata": {},
     "output_type": "execute_result"
    }
   ],
   "source": [
    "d = numpy.arange(25).reshape(5,5)\n",
    "numpy.diag(d, 0)"
   ]
  },
  {
   "cell_type": "code",
   "execution_count": 95,
   "metadata": {},
   "outputs": [
    {
     "data": {
      "text/plain": [
       "array([[ 0,  1,  2,  3,  4],\n",
       "       [ 5,  6,  7,  8,  9],\n",
       "       [10, 11, 12, 13, 14],\n",
       "       [15, 16, 17, 18, 19],\n",
       "       [20, 21, 22, 23, 24]])"
      ]
     },
     "execution_count": 95,
     "metadata": {},
     "output_type": "execute_result"
    }
   ],
   "source": [
    "d"
   ]
  },
  {
   "cell_type": "code",
   "execution_count": 18,
   "metadata": {},
   "outputs": [
    {
     "data": {
      "text/plain": [
       "(array([[ 0,  1,  3,  6, 10],\n",
       "        [ 0,  1,  3,  6, 10],\n",
       "        [ 0,  1,  3,  6, 10],\n",
       "        [ 0,  1,  3,  6, 10],\n",
       "        [ 0,  1,  3,  6, 10]]), array([[ 0,  0,  0,  0,  0],\n",
       "        [ 1,  1,  1,  1,  1],\n",
       "        [ 3,  3,  3,  3,  3],\n",
       "        [ 6,  6,  6,  6,  6],\n",
       "        [10, 10, 10, 10, 10]]))"
      ]
     },
     "execution_count": 18,
     "metadata": {},
     "output_type": "execute_result"
    }
   ],
   "source": [
    "n = 5\n",
    "a = numpy.cumsum(numpy.arange(n))\n",
    "x,y = numpy.meshgrid(a,a)\n",
    "x,y"
   ]
  },
  {
   "cell_type": "code",
   "execution_count": 54,
   "metadata": {},
   "outputs": [],
   "source": [
    "def simple_denominator2(n, start_diagonal=0):\n",
    "    return sum([numpy.tri(n,n, -i - start_diagonal)*(i+1) for i in range(n)]).T"
   ]
  },
  {
   "cell_type": "code",
   "execution_count": 62,
   "metadata": {},
   "outputs": [
    {
     "name": "stdout",
     "output_type": "stream",
     "text": [
      "51.6 µs ± 198 ns per loop (mean ± std. dev. of 7 runs, 10000 loops each)\n"
     ]
    }
   ],
   "source": [
    "%timeit simple_denominator2(5,1)"
   ]
  },
  {
   "cell_type": "code",
   "execution_count": 67,
   "metadata": {},
   "outputs": [
    {
     "name": "stdout",
     "output_type": "stream",
     "text": [
      "CPU times: user 13.6 s, sys: 719 ms, total: 14.4 s\n",
      "Wall time: 514 ms\n"
     ]
    },
    {
     "data": {
      "text/plain": [
       "array([[0.00000e+00, 0.00000e+00, 1.00000e+00, ..., 1.23256e+05,\n",
       "        1.23753e+05, 1.24251e+05],\n",
       "       [0.00000e+00, 0.00000e+00, 0.00000e+00, ..., 1.22760e+05,\n",
       "        1.23256e+05, 1.23753e+05],\n",
       "       [0.00000e+00, 0.00000e+00, 0.00000e+00, ..., 1.22265e+05,\n",
       "        1.22760e+05, 1.23256e+05],\n",
       "       ...,\n",
       "       [0.00000e+00, 0.00000e+00, 0.00000e+00, ..., 0.00000e+00,\n",
       "        0.00000e+00, 1.00000e+00],\n",
       "       [0.00000e+00, 0.00000e+00, 0.00000e+00, ..., 0.00000e+00,\n",
       "        0.00000e+00, 0.00000e+00],\n",
       "       [0.00000e+00, 0.00000e+00, 0.00000e+00, ..., 0.00000e+00,\n",
       "        0.00000e+00, 0.00000e+00]])"
      ]
     },
     "execution_count": 67,
     "metadata": {},
     "output_type": "execute_result"
    }
   ],
   "source": [
    "%time simple_denominator2(500,2)"
   ]
  },
  {
   "cell_type": "code",
   "execution_count": 66,
   "metadata": {},
   "outputs": [
    {
     "name": "stdout",
     "output_type": "stream",
     "text": [
      "CPU times: user 21.4 ms, sys: 0 ns, total: 21.4 ms\n",
      "Wall time: 20.7 ms\n"
     ]
    },
    {
     "data": {
      "text/plain": [
       "array([[0.00000e+00, 0.00000e+00, 1.00000e+00, ..., 1.23256e+05,\n",
       "        1.23753e+05, 1.24251e+05],\n",
       "       [0.00000e+00, 0.00000e+00, 0.00000e+00, ..., 1.22760e+05,\n",
       "        1.23256e+05, 1.23753e+05],\n",
       "       [0.00000e+00, 0.00000e+00, 0.00000e+00, ..., 1.22265e+05,\n",
       "        1.22760e+05, 1.23256e+05],\n",
       "       ...,\n",
       "       [0.00000e+00, 0.00000e+00, 0.00000e+00, ..., 0.00000e+00,\n",
       "        0.00000e+00, 1.00000e+00],\n",
       "       [0.00000e+00, 0.00000e+00, 0.00000e+00, ..., 0.00000e+00,\n",
       "        0.00000e+00, 0.00000e+00],\n",
       "       [0.00000e+00, 0.00000e+00, 0.00000e+00, ..., 0.00000e+00,\n",
       "        0.00000e+00, 0.00000e+00]])"
      ]
     },
     "execution_count": 66,
     "metadata": {},
     "output_type": "execute_result"
    }
   ],
   "source": [
    "%time peas.scoring.compute_denominator_2d(500,2)"
   ]
  },
  {
   "cell_type": "code",
   "execution_count": 28,
   "metadata": {},
   "outputs": [
    {
     "data": {
      "text/plain": [
       "array([[ 0,  1,  2,  3,  4],\n",
       "       [-1,  0,  1,  2,  3],\n",
       "       [-2, -1,  0,  1,  2],\n",
       "       [-3, -2, -1,  0,  1],\n",
       "       [-4, -3, -2, -1,  0]])"
      ]
     },
     "execution_count": 28,
     "metadata": {},
     "output_type": "execute_result"
    }
   ],
   "source": [
    "#simple denominator\n",
    "\n",
    "n = 5\n",
    "dm = numpy.zeros((n,n))\n",
    "\n",
    "x, y = numpy.meshgrid(numpy.arange(5), numpy.arange(5, 0, step=-1))\n",
    "(x+y) - n\n",
    "\n",
    "# dm"
   ]
  },
  {
   "cell_type": "code",
   "execution_count": null,
   "metadata": {},
   "outputs": [],
   "source": []
  },
  {
   "cell_type": "code",
   "execution_count": 36,
   "metadata": {},
   "outputs": [
    {
     "name": "stdout",
     "output_type": "stream",
     "text": [
      "(0, 2)\n",
      "(1, 3)\n",
      "(2, 4)\n",
      "(3, 5)\n",
      "(4, 6)\n",
      "(5, 7)\n",
      "(6, 8)\n",
      "(7, 9)\n"
     ]
    }
   ],
   "source": [
    "for pair in zip(*peas.arrayfuncs.my_diag_indices(10, 2)):\n",
    "    print(pair)"
   ]
  },
  {
   "cell_type": "code",
   "execution_count": 37,
   "metadata": {},
   "outputs": [
    {
     "name": "stdout",
     "output_type": "stream",
     "text": [
      "0\n",
      "(0, 0)\n",
      "(1, 1)\n",
      "(2, 2)\n",
      "(3, 3)\n",
      "(4, 4)\n",
      "\n",
      "1\n",
      "(0, 1)\n",
      "(1, 2)\n",
      "(2, 3)\n",
      "(3, 4)\n",
      "\n",
      "2\n",
      "(0, 2)\n",
      "(1, 3)\n",
      "(2, 4)\n",
      "\n",
      "3\n",
      "(0, 3)\n",
      "(1, 4)\n",
      "\n",
      "4\n",
      "(0, 4)\n",
      "\n"
     ]
    }
   ],
   "source": [
    "for diagonal_idx in range(5):\n",
    "    print(diagonal_idx)\n",
    "    for pair in zip(*peas.arrayfuncs.my_diag_indices(5, diagonal_idx)):\n",
    "        print(pair)\n",
    "    print()"
   ]
  },
  {
   "cell_type": "code",
   "execution_count": 7,
   "metadata": {},
   "outputs": [
    {
     "name": "stdout",
     "output_type": "stream",
     "text": [
      "0\n",
      "0 0\n",
      "1 1\n",
      "2 2\n",
      "3 3\n",
      "4 4\n",
      "\n",
      "1\n",
      "0 1\n",
      "1 2\n",
      "2 3\n",
      "3 4\n",
      "\n",
      "2\n",
      "0 2\n",
      "1 3\n",
      "2 4\n",
      "\n",
      "3\n",
      "0 3\n",
      "1 4\n",
      "\n",
      "4\n",
      "0 4\n",
      "\n"
     ]
    }
   ],
   "source": [
    "n = 5\n",
    "for k in range(n):\n",
    "    print(k)\n",
    "    for row_idx in range(n - k):\n",
    "        col_idx = row_idx + k\n",
    "        print(row_idx, col_idx)\n",
    "        \n",
    "    print()"
   ]
  },
  {
   "cell_type": "code",
   "execution_count": 8,
   "metadata": {},
   "outputs": [
    {
     "data": {
      "text/plain": [
       "array([[ 0,  1,  2,  3,  4],\n",
       "       [ 5,  6,  7,  8,  9],\n",
       "       [10, 11, 12, 13, 14],\n",
       "       [15, 16, 17, 18, 19],\n",
       "       [20, 21, 22, 23, 24]])"
      ]
     },
     "execution_count": 8,
     "metadata": {},
     "output_type": "execute_result"
    }
   ],
   "source": [
    "d = numpy.arange(25).reshape((5,5))\n",
    "d"
   ]
  },
  {
   "cell_type": "code",
   "execution_count": 9,
   "metadata": {},
   "outputs": [],
   "source": [
    "python_table_sum = peas.scoring.compute_sum_table_2d"
   ]
  },
  {
   "cell_type": "code",
   "execution_count": 10,
   "metadata": {},
   "outputs": [
    {
     "name": "stdout",
     "output_type": "stream",
     "text": [
      "0 0\n",
      "1 1\n",
      "2 2\n",
      "3 3\n",
      "4 4\n",
      "\n",
      "0 1\n",
      "1 2\n",
      "2 3\n",
      "3 4\n",
      "\n",
      "0 2\n",
      "1 3\n",
      "2 4\n",
      "\n",
      "0 3\n",
      "1 4\n",
      "\n",
      "0 4\n",
      "\n"
     ]
    }
   ],
   "source": [
    "n = 5\n",
    "s = numpy.zeros((n,n))\n",
    "# 1st diagonal\n",
    "# for idx in range(n):\n",
    "#     s[idx, idx] = d[idx, idx]\n",
    "\n",
    "for k in range(0,n):\n",
    "\n",
    "    for row_idx in range(n - k):\n",
    "        this_val = 0\n",
    "        col_idx = row_idx + k\n",
    "        print(row_idx, col_idx)\n",
    "        # current cell\n",
    "        this_val += d[row_idx, col_idx]\n",
    "        \n",
    "        if k >= 1:\n",
    "            # left cell\n",
    "            this_val += s[row_idx, col_idx - 1]\n",
    "            # beneath cell\n",
    "            this_val += s[row_idx+1, col_idx]\n",
    "        \n",
    "            if k >= 2:\n",
    "                this_val -= s[row_idx +1, col_idx - 1]\n",
    "        \n",
    "        s[row_idx, col_idx] = this_val\n",
    "    print()"
   ]
  },
  {
   "cell_type": "code",
   "execution_count": 11,
   "metadata": {},
   "outputs": [],
   "source": [
    "def simple_sum_table(d, start_diagonal, end_diagonal):\n",
    "    n = d.shape[0]\n",
    "    s = numpy.zeros((n,n))\n",
    "\n",
    "    for k in range(start_diagonal, end_diagonal+1):\n",
    "        print(k)\n",
    "        for row_idx in range(end_diagonal - k + 1):\n",
    "            this_val = 0\n",
    "            col_idx = row_idx + k\n",
    "            print(row_idx, col_idx)\n",
    "            # current cell\n",
    "            this_val += d[row_idx, col_idx]\n",
    "\n",
    "            if k - start_diagonal >= 1:\n",
    "                # left cell\n",
    "                this_val += s[row_idx, col_idx - 1]\n",
    "                # beneath cell\n",
    "                this_val += s[row_idx+1, col_idx]\n",
    "\n",
    "                if k - start_diagonal >= 2:\n",
    "                    this_val -= s[row_idx +1, col_idx - 1]\n",
    "\n",
    "            s[row_idx, col_idx] = this_val\n",
    "        print()\n",
    "    return s"
   ]
  },
  {
   "cell_type": "code",
   "execution_count": 12,
   "metadata": {},
   "outputs": [
    {
     "name": "stdout",
     "output_type": "stream",
     "text": [
      "0\n",
      "0 0\n",
      "1 1\n",
      "2 2\n",
      "3 3\n",
      "4 4\n",
      "\n",
      "1\n",
      "0 1\n",
      "1 2\n",
      "2 3\n",
      "3 4\n",
      "\n",
      "2\n",
      "0 2\n",
      "1 3\n",
      "2 4\n",
      "\n",
      "3\n",
      "0 3\n",
      "1 4\n",
      "\n",
      "4\n",
      "0 4\n",
      "\n"
     ]
    },
    {
     "data": {
      "text/plain": [
       "array([[  0.,   7.,  28.,  70., 140.],\n",
       "       [  0.,   6.,  25.,  64., 130.],\n",
       "       [  0.,   0.,  12.,  43., 100.],\n",
       "       [  0.,   0.,   0.,  18.,  61.],\n",
       "       [  0.,   0.,   0.,   0.,  24.]])"
      ]
     },
     "execution_count": 12,
     "metadata": {},
     "output_type": "execute_result"
    }
   ],
   "source": [
    "simple_sum_table(d, 0, 4)"
   ]
  },
  {
   "cell_type": "code",
   "execution_count": 13,
   "metadata": {},
   "outputs": [
    {
     "data": {
      "text/plain": [
       "array([[  0.,   7.,  28.,  70., 140.],\n",
       "       [  0.,   6.,  25.,  64., 130.],\n",
       "       [  0.,   0.,  12.,  43., 100.],\n",
       "       [  0.,   0.,   0.,  18.,  61.],\n",
       "       [  0.,   0.,   0.,   0.,  24.]])"
      ]
     },
     "execution_count": 13,
     "metadata": {},
     "output_type": "execute_result"
    }
   ],
   "source": [
    "python_table_sum(d)"
   ]
  },
  {
   "cell_type": "code",
   "execution_count": 14,
   "metadata": {},
   "outputs": [
    {
     "data": {
      "text/plain": [
       "array([[ 0,  1,  2,  3,  4],\n",
       "       [ 5,  6,  7,  8,  9],\n",
       "       [10, 11, 12, 13, 14],\n",
       "       [15, 16, 17, 18, 19],\n",
       "       [20, 21, 22, 23, 24]])"
      ]
     },
     "execution_count": 14,
     "metadata": {},
     "output_type": "execute_result"
    }
   ],
   "source": [
    "d"
   ]
  },
  {
   "cell_type": "code",
   "execution_count": 15,
   "metadata": {},
   "outputs": [
    {
     "name": "stdout",
     "output_type": "stream",
     "text": [
      "1\n",
      "0 1\n",
      "1 2\n",
      "2 3\n",
      "3 4\n",
      "\n",
      "2\n",
      "0 2\n",
      "1 3\n",
      "2 4\n",
      "\n",
      "3\n",
      "0 3\n",
      "1 4\n",
      "\n",
      "4\n",
      "0 4\n",
      "\n"
     ]
    },
    {
     "data": {
      "text/plain": [
       "array([[ 0.,  1., 10., 34., 80.],\n",
       "       [ 0.,  0.,  7., 28., 70.],\n",
       "       [ 0.,  0.,  0., 13., 46.],\n",
       "       [ 0.,  0.,  0.,  0., 19.],\n",
       "       [ 0.,  0.,  0.,  0.,  0.]])"
      ]
     },
     "execution_count": 15,
     "metadata": {},
     "output_type": "execute_result"
    }
   ],
   "source": [
    "simple_sum_table(d, 1, 4)"
   ]
  },
  {
   "cell_type": "code",
   "execution_count": 16,
   "metadata": {},
   "outputs": [
    {
     "data": {
      "text/plain": [
       "array([[ 0.,  1., 10., 34., 80.],\n",
       "       [ 0.,  0.,  7., 28., 70.],\n",
       "       [ 0.,  0.,  0., 13., 46.],\n",
       "       [ 0.,  0.,  0.,  0., 19.],\n",
       "       [ 0.,  0.,  0.,  0.,  0.]])"
      ]
     },
     "execution_count": 16,
     "metadata": {},
     "output_type": "execute_result"
    }
   ],
   "source": [
    "python_table_sum(d, 1)"
   ]
  },
  {
   "cell_type": "markdown",
   "metadata": {},
   "source": [
    "## Test extension"
   ]
  },
  {
   "cell_type": "code",
   "execution_count": 17,
   "metadata": {},
   "outputs": [],
   "source": [
    "from imp import reload"
   ]
  },
  {
   "cell_type": "code",
   "execution_count": 18,
   "metadata": {},
   "outputs": [
    {
     "name": "stdout",
     "output_type": "stream",
     "text": [
      "[[0. 0. 0. 0. 0.]\n",
      " [0. 0. 0. 0. 0.]\n",
      " [0. 0. 0. 0. 0.]\n",
      " [0. 0. 0. 0. 0.]\n",
      " [0. 0. 0. 0. 0.]]\n",
      "[[  0.   7.  28.  70. 140.]\n",
      " [  0.   6.  25.  64. 130.]\n",
      " [  0.   0.  12.  43. 100.]\n",
      " [  0.   0.   0.  18.  61.]\n",
      " [  0.   0.   0.   0.  24.]]\n"
     ]
    },
    {
     "data": {
      "text/plain": [
       "array([[  0.,   7.,  28.,  70., 140.],\n",
       "       [  0.,   6.,  25.,  64., 130.],\n",
       "       [  0.,   0.,  12.,  43., 100.],\n",
       "       [  0.,   0.,   0.,  18.,  61.],\n",
       "       [  0.,   0.,   0.,   0.,  24.]])"
      ]
     },
     "execution_count": 18,
     "metadata": {},
     "output_type": "execute_result"
    }
   ],
   "source": [
    "import peas\n",
    "reload(peas)\n",
    "\n",
    "peas.scoring_funcs_cython.compute_sum_table_2d(d.astype(float), 0, 4)"
   ]
  },
  {
   "cell_type": "code",
   "execution_count": 19,
   "metadata": {},
   "outputs": [
    {
     "name": "stdout",
     "output_type": "stream",
     "text": [
      "[[0. 0. 0. 0. 0.]\n",
      " [0. 0. 0. 0. 0.]\n",
      " [0. 0. 0. 0. 0.]\n",
      " [0. 0. 0. 0. 0.]\n",
      " [0. 0. 0. 0. 0.]]\n",
      "[[  0.   7.  28.  70. 140.]\n",
      " [  0.   6.  25.  64. 130.]\n",
      " [  0.   0.  12.  43. 100.]\n",
      " [  0.   0.   0.  18.  61.]\n",
      " [  0.   0.   0.   0.  24.]]\n",
      "[[  0.   7.  28.  70. 140.]\n",
      " [  0.   6.  25.  64. 130.]\n",
      " [  0.   0.  12.  43. 100.]\n",
      " [  0.   0.   0.  18.  61.]\n",
      " [  0.   0.   0.   0.  24.]]\n"
     ]
    }
   ],
   "source": [
    "import peas\n",
    "import numpy\n",
    "d = numpy.arange(25).reshape((5,5))\n",
    "\n",
    "result = peas.scoring_funcs_cython.compute_sum_table_2d(d.astype(float), 0, 4)\n",
    "print(result)"
   ]
  },
  {
   "cell_type": "code",
   "execution_count": 20,
   "metadata": {},
   "outputs": [
    {
     "name": "stdout",
     "output_type": "stream",
     "text": [
      "[[0. 0. 0. 0. 0.]\n",
      " [0. 0. 0. 0. 0.]\n",
      " [0. 0. 0. 0. 0.]\n",
      " [0. 0. 0. 0. 0.]\n",
      " [0. 0. 0. 0. 0.]]\n",
      "[[ 0.  1. 10. 34. 80.]\n",
      " [ 0.  0.  7. 28. 70.]\n",
      " [ 0.  0.  0. 13. 46.]\n",
      " [ 0.  0.  0.  0. 19.]\n",
      " [ 0.  0.  0.  0.  0.]]\n"
     ]
    }
   ],
   "source": [
    "result = peas.scoring_funcs_cython.compute_sum_table_2d(d.astype(float), 1, 4)\n"
   ]
  },
  {
   "cell_type": "code",
   "execution_count": 23,
   "metadata": {},
   "outputs": [
    {
     "ename": "AssertionError",
     "evalue": "",
     "output_type": "error",
     "traceback": [
      "\u001b[0;31m---------------------------------------------------------------------------\u001b[0m",
      "\u001b[0;31mAssertionError\u001b[0m                            Traceback (most recent call last)",
      "\u001b[0;32m<ipython-input-23-cda4b46d66af>\u001b[0m in \u001b[0;36m<module>\u001b[0;34m()\u001b[0m\n\u001b[0;32m----> 1\u001b[0;31m \u001b[0;32massert\u001b[0m \u001b[0;36m1\u001b[0m \u001b[0;34m<\u001b[0m \u001b[0;36m2\u001b[0m \u001b[0;34m<\u001b[0m \u001b[0;36m3\u001b[0m \u001b[0;34m<\u001b[0m \u001b[0;36m4\u001b[0m \u001b[0;34m<\u001b[0m \u001b[0;36m1\u001b[0m \u001b[0;34m<\u001b[0m \u001b[0;36m8\u001b[0m\u001b[0;34m\u001b[0m\u001b[0m\n\u001b[0m",
      "\u001b[0;31mAssertionError\u001b[0m: "
     ]
    }
   ],
   "source": [
    "assert 1 < 2 < 3 < 4 < 1 < 8"
   ]
  },
  {
   "cell_type": "code",
   "execution_count": null,
   "metadata": {},
   "outputs": [],
   "source": []
  }
 ],
 "metadata": {
  "kernelspec": {
   "display_name": "Python [conda env:anaconda3]",
   "language": "python",
   "name": "conda-env-anaconda3-py"
  },
  "language_info": {
   "codemirror_mode": {
    "name": "ipython",
    "version": 3
   },
   "file_extension": ".py",
   "mimetype": "text/x-python",
   "name": "python",
   "nbconvert_exporter": "python",
   "pygments_lexer": "ipython3",
   "version": "3.6.5"
  }
 },
 "nbformat": 4,
 "nbformat_minor": 2
}
