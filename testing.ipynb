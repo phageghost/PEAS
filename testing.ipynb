{
 "cells": [
  {
   "cell_type": "code",
   "execution_count": 3,
   "metadata": {},
   "outputs": [],
   "source": [
    "import os\n",
    "import itertools, collections\n",
    "import numpy, scipy, pandas\n",
    "import scipy.signal\n",
    "import scipy.stats\n",
    "import matplotlib\n",
    "import matplotlib.pyplot as plt\n",
    "from imp import reload\n",
    "import seaborn\n",
    "\n",
    "from pgtools import toolbox, myplots\n",
    "import pygbrowse\n",
    "import empdist\n",
    "import peas"
   ]
  },
  {
   "cell_type": "code",
   "execution_count": 40,
   "metadata": {},
   "outputs": [
    {
     "ename": "SyntaxError",
     "evalue": "invalid syntax (distributions.py, line 62)",
     "output_type": "error",
     "traceback": [
      "Traceback \u001b[0;36m(most recent call last)\u001b[0m:\n",
      "  File \u001b[1;32m\"/home/dskola/anaconda3/lib/python3.6/site-packages/IPython/core/interactiveshell.py\"\u001b[0m, line \u001b[1;32m2963\u001b[0m, in \u001b[1;35mrun_code\u001b[0m\n    exec(code_obj, self.user_global_ns, self.user_ns)\n",
      "  File \u001b[1;32m\"<ipython-input-40-760590e07c05>\"\u001b[0m, line \u001b[1;32m2\u001b[0m, in \u001b[1;35m<module>\u001b[0m\n    reload(peas)\n",
      "  File \u001b[1;32m\"/home/dskola/anaconda3/lib/python3.6/imp.py\"\u001b[0m, line \u001b[1;32m315\u001b[0m, in \u001b[1;35mreload\u001b[0m\n    return importlib.reload(module)\n",
      "  File \u001b[1;32m\"/home/dskola/anaconda3/lib/python3.6/importlib/__init__.py\"\u001b[0m, line \u001b[1;32m166\u001b[0m, in \u001b[1;35mreload\u001b[0m\n    _bootstrap._exec(spec, module)\n",
      "  File \u001b[1;32m\"<frozen importlib._bootstrap>\"\u001b[0m, line \u001b[1;32m618\u001b[0m, in \u001b[1;35m_exec\u001b[0m\n",
      "  File \u001b[1;32m\"<frozen importlib._bootstrap_external>\"\u001b[0m, line \u001b[1;32m678\u001b[0m, in \u001b[1;35mexec_module\u001b[0m\n",
      "  File \u001b[1;32m\"<frozen importlib._bootstrap>\"\u001b[0m, line \u001b[1;32m219\u001b[0m, in \u001b[1;35m_call_with_frames_removed\u001b[0m\n",
      "  File \u001b[1;32m\"/gpfs/data01/glasslab/home/dskola/workspace/PEAS/peas/__init__.py\"\u001b[0m, line \u001b[1;32m1\u001b[0m, in \u001b[1;35m<module>\u001b[0m\n    from .main import *\n",
      "\u001b[0;36m  File \u001b[0;32m\"/gpfs/data01/glasslab/home/dskola/workspace/PEAS/peas/main.py\"\u001b[0;36m, line \u001b[0;32m5\u001b[0;36m, in \u001b[0;35m<module>\u001b[0;36m\u001b[0m\n\u001b[0;31m    from peas import distributions\u001b[0m\n",
      "\u001b[0;36m  File \u001b[0;32m\"/gpfs/data01/glasslab/home/dskola/workspace/PEAS/peas/distributions.py\"\u001b[0;36m, line \u001b[0;32m62\u001b[0m\n\u001b[0;31m    r * region_size ) / region_size)\u001b[0m\n\u001b[0m    ^\u001b[0m\n\u001b[0;31mSyntaxError\u001b[0m\u001b[0;31m:\u001b[0m invalid syntax\n"
     ]
    }
   ],
   "source": [
    "reload(empdist)\n",
    "reload(peas)"
   ]
  },
  {
   "cell_type": "code",
   "execution_count": null,
   "metadata": {},
   "outputs": [],
   "source": []
  }
 ],
 "metadata": {
  "kernelspec": {
   "display_name": "Python [conda env:anaconda3]",
   "language": "python",
   "name": "conda-env-anaconda3-py"
  },
  "language_info": {
   "codemirror_mode": {
    "name": "ipython",
    "version": 3
   },
   "file_extension": ".py",
   "mimetype": "text/x-python",
   "name": "python",
   "nbconvert_exporter": "python",
   "pygments_lexer": "ipython3",
   "version": "3.6.5"
  }
 },
 "nbformat": 4,
 "nbformat_minor": 2
}
