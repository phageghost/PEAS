{
 "cells": [
  {
   "cell_type": "code",
   "execution_count": 1,
   "metadata": {},
   "outputs": [],
   "source": [
    "import os\n",
    "import numpy, scipy, pandas\n",
    "import matplotlib\n",
    "import matplotlib.pyplot as plt\n",
    "from imp import reload\n",
    "import seaborn"
   ]
  },
  {
   "cell_type": "code",
   "execution_count": 2,
   "metadata": {},
   "outputs": [],
   "source": [
    "bed_fname = '/home/dskola/projects/coupled_peaks/moremerged/peak_matrices/atac_notx_peak_matrix.tsv'\n",
    "bed_df = pandas.read_csv(bed_fname, index_col=0, sep='\\t')"
   ]
  },
  {
   "cell_type": "markdown",
   "metadata": {},
   "source": [
    "## Command line 1"
   ]
  },
  {
   "cell_type": "code",
   "execution_count": 3,
   "metadata": {},
   "outputs": [
    {
     "name": "stdout",
     "output_type": "stream",
     "text": [
      "Traceback (most recent call last):\r\n",
      "  File \"scripts/genomic_peas.py\", line 125, in <module>\r\n",
      "    sys.exit(main())\r\n",
      "  File \"scripts/genomic_peas.py\", line 122, in main\r\n",
      "    random_seed=args.random_seed)\r\n",
      "  File \"/gpfs/data01/glasslab/home/dskola/workspace/PEAS/peas/genomic_regions.py\", line 163, in find_genomic_region_crds_matrix\r\n",
      "    annotations, features = load_and_parse_peak_file(peak_fname=peak_filename, feature_columns=feature_columns)\r\n",
      "  File \"/gpfs/data01/glasslab/home/dskola/workspace/PEAS/peas/genomic_regions.py\", line 48, in load_and_parse_peak_file\r\n",
      "    features = peak_df.iloc[:, feature_columns]\r\n",
      "  File \"/home/dskola/anaconda3/lib/python3.6/site-packages/pandas/core/indexing.py\", line 1472, in __getitem__\r\n",
      "    return self._getitem_tuple(key)\r\n",
      "  File \"/home/dskola/anaconda3/lib/python3.6/site-packages/pandas/core/indexing.py\", line 2013, in _getitem_tuple\r\n",
      "    self._has_valid_tuple(tup)\r\n",
      "  File \"/home/dskola/anaconda3/lib/python3.6/site-packages/pandas/core/indexing.py\", line 222, in _has_valid_tuple\r\n",
      "    self._validate_key(k, i)\r\n",
      "  File \"/home/dskola/anaconda3/lib/python3.6/site-packages/pandas/core/indexing.py\", line 1968, in _validate_key\r\n",
      "    raise IndexError(\"positional indexers are out-of-bounds\")\r\n",
      "IndexError: positional indexers are out-of-bounds\r\n"
     ]
    }
   ],
   "source": [
    "!python scripts/genomic_peas.py matrix /home/dskola/projects/coupled_peaks/moremerged/peak_matrices/atac_notx_peak_matrix.tsv homer 7,8,9,10,11 --max-size 100 -o test_crds_matrix.tsv -p 1"
   ]
  },
  {
   "cell_type": "code",
   "execution_count": 11,
   "metadata": {},
   "outputs": [],
   "source": [
    "a = numpy.arange(100).reshape((5,20))"
   ]
  },
  {
   "cell_type": "code",
   "execution_count": 12,
   "metadata": {},
   "outputs": [
    {
     "data": {
      "text/plain": [
       "array([[ 0,  1,  2,  3,  4,  5,  6,  7,  8,  9, 10, 11, 12, 13, 14, 15,\n",
       "        16, 17, 18, 19],\n",
       "       [20, 21, 22, 23, 24, 25, 26, 27, 28, 29, 30, 31, 32, 33, 34, 35,\n",
       "        36, 37, 38, 39],\n",
       "       [40, 41, 42, 43, 44, 45, 46, 47, 48, 49, 50, 51, 52, 53, 54, 55,\n",
       "        56, 57, 58, 59],\n",
       "       [60, 61, 62, 63, 64, 65, 66, 67, 68, 69, 70, 71, 72, 73, 74, 75,\n",
       "        76, 77, 78, 79],\n",
       "       [80, 81, 82, 83, 84, 85, 86, 87, 88, 89, 90, 91, 92, 93, 94, 95,\n",
       "        96, 97, 98, 99]])"
      ]
     },
     "execution_count": 12,
     "metadata": {},
     "output_type": "execute_result"
    }
   ],
   "source": [
    "a"
   ]
  },
  {
   "cell_type": "code",
   "execution_count": 13,
   "metadata": {},
   "outputs": [],
   "source": [
    "import empdist"
   ]
  },
  {
   "cell_type": "code",
   "execution_count": 16,
   "metadata": {},
   "outputs": [
    {
     "data": {
      "text/plain": [
       "26666.6666"
      ]
     },
     "execution_count": 16,
     "metadata": {},
     "output_type": "execute_result"
    }
   ],
   "source": [
    "empdist.empirical_pval.compute_number_of_permuted_data_points(1e-6) / 15000"
   ]
  },
  {
   "cell_type": "code",
   "execution_count": null,
   "metadata": {},
   "outputs": [],
   "source": []
  }
 ],
 "metadata": {
  "kernelspec": {
   "display_name": "Python [conda env:anaconda3]",
   "language": "python",
   "name": "conda-env-anaconda3-py"
  },
  "language_info": {
   "codemirror_mode": {
    "name": "ipython",
    "version": 3
   },
   "file_extension": ".py",
   "mimetype": "text/x-python",
   "name": "python",
   "nbconvert_exporter": "python",
   "pygments_lexer": "ipython3",
   "version": "3.6.5"
  }
 },
 "nbformat": 4,
 "nbformat_minor": 2
}
